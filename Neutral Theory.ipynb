{
 "cells": [
  {
   "cell_type": "markdown",
   "metadata": {},
   "source": [
    "# Neutral Theory "
   ]
  },
  {
   "cell_type": "markdown",
   "metadata": {},
   "source": [
    "## 0. Data acqusition"
   ]
  },
  {
   "cell_type": "code",
   "execution_count": 1,
   "metadata": {},
   "outputs": [],
   "source": [
    "import numpy as np\n",
    "import pandas as pd\n",
    "import matplotlib.pyplot as plt\n",
    "from scipy import integrate as I\n",
    "%matplotlib inline\n"
   ]
  },
  {
   "cell_type": "code",
   "execution_count": 2,
   "metadata": {},
   "outputs": [
    {
     "data": {
      "text/html": [
       "<div>\n",
       "<style scoped>\n",
       "    .dataframe tbody tr th:only-of-type {\n",
       "        vertical-align: middle;\n",
       "    }\n",
       "\n",
       "    .dataframe tbody tr th {\n",
       "        vertical-align: top;\n",
       "    }\n",
       "\n",
       "    .dataframe thead th {\n",
       "        text-align: right;\n",
       "    }\n",
       "</style>\n",
       "<table border=\"1\" class=\"dataframe\">\n",
       "  <thead>\n",
       "    <tr style=\"text-align: right;\">\n",
       "      <th></th>\n",
       "      <th>tag</th>\n",
       "      <th>gx</th>\n",
       "      <th>gy</th>\n",
       "      <th>dbh</th>\n",
       "      <th>pom</th>\n",
       "      <th>date</th>\n",
       "    </tr>\n",
       "  </thead>\n",
       "  <tbody>\n",
       "    <tr>\n",
       "      <th>count</th>\n",
       "      <td>368122.000000</td>\n",
       "      <td>368035.000000</td>\n",
       "      <td>368035.000000</td>\n",
       "      <td>208387.000000</td>\n",
       "      <td>368122.000000</td>\n",
       "      <td>368070.000000</td>\n",
       "    </tr>\n",
       "    <tr>\n",
       "      <th>mean</th>\n",
       "      <td>262011.545901</td>\n",
       "      <td>494.356946</td>\n",
       "      <td>254.214007</td>\n",
       "      <td>49.337660</td>\n",
       "      <td>0.696302</td>\n",
       "      <td>8912.050490</td>\n",
       "    </tr>\n",
       "    <tr>\n",
       "      <th>std</th>\n",
       "      <td>201947.633329</td>\n",
       "      <td>291.017349</td>\n",
       "      <td>144.039966</td>\n",
       "      <td>83.399585</td>\n",
       "      <td>0.653746</td>\n",
       "      <td>77.962794</td>\n",
       "    </tr>\n",
       "    <tr>\n",
       "      <th>min</th>\n",
       "      <td>-42299.000000</td>\n",
       "      <td>0.000000</td>\n",
       "      <td>0.000000</td>\n",
       "      <td>10.000000</td>\n",
       "      <td>0.000000</td>\n",
       "      <td>8768.000000</td>\n",
       "    </tr>\n",
       "    <tr>\n",
       "      <th>25%</th>\n",
       "      <td>107171.250000</td>\n",
       "      <td>237.800000</td>\n",
       "      <td>130.300000</td>\n",
       "      <td>16.000000</td>\n",
       "      <td>0.000000</td>\n",
       "      <td>8841.000000</td>\n",
       "    </tr>\n",
       "    <tr>\n",
       "      <th>50%</th>\n",
       "      <td>210413.500000</td>\n",
       "      <td>492.200000</td>\n",
       "      <td>254.700000</td>\n",
       "      <td>25.000000</td>\n",
       "      <td>1.000000</td>\n",
       "      <td>8915.000000</td>\n",
       "    </tr>\n",
       "    <tr>\n",
       "      <th>75%</th>\n",
       "      <td>409068.750000</td>\n",
       "      <td>747.700000</td>\n",
       "      <td>380.100000</td>\n",
       "      <td>47.000000</td>\n",
       "      <td>1.000000</td>\n",
       "      <td>8975.000000</td>\n",
       "    </tr>\n",
       "    <tr>\n",
       "      <th>max</th>\n",
       "      <td>749571.000000</td>\n",
       "      <td>999.900000</td>\n",
       "      <td>499.900000</td>\n",
       "      <td>2765.000000</td>\n",
       "      <td>5.000000</td>\n",
       "      <td>9154.000000</td>\n",
       "    </tr>\n",
       "  </tbody>\n",
       "</table>\n",
       "</div>"
      ],
      "text/plain": [
       "                 tag             gx             gy            dbh  \\\n",
       "count  368122.000000  368035.000000  368035.000000  208387.000000   \n",
       "mean   262011.545901     494.356946     254.214007      49.337660   \n",
       "std    201947.633329     291.017349     144.039966      83.399585   \n",
       "min    -42299.000000       0.000000       0.000000      10.000000   \n",
       "25%    107171.250000     237.800000     130.300000      16.000000   \n",
       "50%    210413.500000     492.200000     254.700000      25.000000   \n",
       "75%    409068.750000     747.700000     380.100000      47.000000   \n",
       "max    749571.000000     999.900000     499.900000    2765.000000   \n",
       "\n",
       "                 pom           date  \n",
       "count  368122.000000  368070.000000  \n",
       "mean        0.696302    8912.050490  \n",
       "std         0.653746      77.962794  \n",
       "min         0.000000    8768.000000  \n",
       "25%         0.000000    8841.000000  \n",
       "50%         1.000000    8915.000000  \n",
       "75%         1.000000    8975.000000  \n",
       "max         5.000000    9154.000000  "
      ]
     },
     "execution_count": 2,
     "metadata": {},
     "output_type": "execute_result"
    }
   ],
   "source": [
    "data = pd.read_csv(\"bci05.csv\")\n",
    "data.describe()"
   ]
  },
  {
   "cell_type": "code",
   "execution_count": 3,
   "metadata": {},
   "outputs": [],
   "source": [
    "data = data[data[\"status\"]=='A'][[\"tag\", \"sp\", \"gx\", \"gy\"]]"
   ]
  },
  {
   "cell_type": "code",
   "execution_count": 4,
   "metadata": {},
   "outputs": [
    {
     "name": "stdout",
     "output_type": "stream",
     "text": [
      "There are 299 different species\n"
     ]
    }
   ],
   "source": [
    "# 1) Species spotting\n",
    "types = data['sp'].value_counts().keys() \n",
    "S = len(types)\n",
    "print(\"There are {} different species\".format(S))"
   ]
  },
  {
   "cell_type": "markdown",
   "metadata": {},
   "source": [
    "## 1. Relative species abundances (RSA)"
   ]
  },
  {
   "cell_type": "markdown",
   "metadata": {},
   "source": [
    "In order to make $800$ subplots we divided the dataset in cells of $25 \\times 25$. Then we computed the abundance of each species for each subplot. Finally we built an array `X` containing all the nonzero abundances."
   ]
  },
  {
   "cell_type": "code",
   "execution_count": 5,
   "metadata": {},
   "outputs": [],
   "source": [
    "# 25 * 25 \n",
    "data[\"i\"], data[\"j\"] = data[\"gx\"]//25, data[\"gy\"]//25\n",
    "# a)\n",
    "cell_pop = data.groupby([\"i\", \"j\"])[\"sp\"].value_counts()\n",
    "# b) shaping them in a matrix\n",
    "cell_pop_M = cell_pop.unstack().stack(dropna = False).fillna(0).astype(int)\n",
    "cell_pop_M = np.array(cell_pop_M).reshape(40, 20, 299) # (i, j, specie)\n"
   ]
  },
  {
   "cell_type": "code",
   "execution_count": 6,
   "metadata": {},
   "outputs": [],
   "source": [
    "# Flatten all and remove zero values\n",
    "flatten_pop = cell_pop_M.flatten() \n",
    "X = flatten_pop[np.nonzero(flatten_pop)]"
   ]
  },
  {
   "cell_type": "code",
   "execution_count": 7,
   "metadata": {},
   "outputs": [
    {
     "data": {
      "text/plain": [
       "(49479,)"
      ]
     },
     "execution_count": 7,
     "metadata": {},
     "output_type": "execute_result"
    }
   ],
   "source": [
    "X.shape"
   ]
  },
  {
   "cell_type": "markdown",
   "metadata": {},
   "source": [
    "## 2. Experimental cumulative distribution of the abundances"
   ]
  },
  {
   "cell_type": "markdown",
   "metadata": {},
   "source": [
    "In this section we construct the probability distribution $P_>(n)$ that a species have $n$ or more individuals. "
   ]
  },
  {
   "cell_type": "code",
   "execution_count": 74,
   "metadata": {},
   "outputs": [
    {
     "data": {
      "image/png": "[encoded data removed]",
      "text/plain": [
       "<Figure size 432x288 with 1 Axes>"
      ]
     },
     "metadata": {
      "needs_background": "light"
     },
     "output_type": "display_data"
    }
   ],
   "source": [
    "_ = plt.hist(X, bins=X.max(), cumulative=-1, density=True, edgecolor='black', \n",
    "             linewidth = 1.2, fill=True, facecolor='skyblue', histtype=\"step\", label=\"Forest Data\")\n",
    "plt.yscale(\"log\") \n",
    "plt.xscale(\"log\")\n",
    "\n",
    "plt.xlabel(\"Abundance\", fontsize=14)\n",
    "plt.ylabel(\"Cumulative distribution\", fontsize=14)\n",
    "plt.legend()\n",
    "\n",
    "plt.show()"
   ]
  },
  {
   "cell_type": "markdown",
   "metadata": {},
   "source": [
    "## 3. Theoretical estimate of the cumulative distribution"
   ]
  },
  {
   "cell_type": "markdown",
   "metadata": {},
   "source": [
    "Probability mass function normalized with $\\sum_{n=0}^\\infty P(n) = 1$:\n",
    "\n",
    "$P^{(0)}(n) = -\\frac{(1-\\nu)^n}{n log(\\nu)}$\n",
    "\n",
    "Probability mass function normalized with $\\sum_{n=1}^\\infty P(n) = 1$:\n",
    "\n",
    "$P^{(1)}(n) = \\frac{(1-\\nu)^n}{n \\Gamma(0,-log(1-\\nu))}$\n",
    "\n",
    "where we use the incomplete $\\Gamma$ function:\n",
    "\n",
    "$\\Gamma(a,x) \\equiv \\int_x^\\infty dt~t^{a-1}e^{-t}$\n",
    "\n",
    "In our specific case it yields:\n",
    "\n",
    "$\\Gamma(0,-log(1-\\nu)) = \\int_{-log(1-\\nu))}^\\infty dt~\\frac{e^{-t}}{t} = \\int_1^\\infty dn~\\frac{(1-\\nu)^n}{n} $\n",
    "\n",
    "To use the gamma function with $a=0$ in python we choose `exp1` from `scipy`. Check the [documentation](https://docs.scipy.org/doc/scipy/reference/generated/scipy.special.exp1.html)."
   ]
  },
  {
   "cell_type": "code",
   "execution_count": 9,
   "metadata": {},
   "outputs": [],
   "source": [
    "from scipy.special import exp1"
   ]
  },
  {
   "cell_type": "code",
   "execution_count": 10,
   "metadata": {},
   "outputs": [],
   "source": [
    "def p0(n, nu=0.05):\n",
    "    if n == 0:\n",
    "        return 0\n",
    "    return -((1-nu)**n/np.log(nu))/n\n",
    "\n",
    "def p1(n, nu=0.05):\n",
    "    return (1-nu)**(n-1)/(n*exp1(-np.log(1-nu)))\n",
    "\n",
    "def integrate_p(func, n):\n",
    "    return I.quad(func, n, np.inf)[0]\n",
    "\n",
    "#cumulative_p0 = []\n",
    "cumulative_p1 = []\n",
    "\n",
    "for n in range(1, 140):\n",
    "    #cumulative_p0.append(integrate_p(p, n))\n",
    "    cumulative_p1.append(integrate_p(p1, n))\n"
   ]
  },
  {
   "cell_type": "code",
   "execution_count": 92,
   "metadata": {},
   "outputs": [
    {
     "data": {
      "image/png": "[encoded data removed]",
      "text/plain": [
       "<Figure size 432x288 with 1 Axes>"
      ]
     },
     "metadata": {
      "needs_background": "light"
     },
     "output_type": "display_data"
    }
   ],
   "source": [
    "x = np.arange(1, 140)\n",
    "_ = plt.hist(X, bins=X.max(), cumulative=-1, density=True, edgecolor='black', \n",
    "             linewidth = 1.2, fill=True, facecolor='skyblue', histtype=\"step\", label=\"BCI Data\")\n",
    "#plt.plot(x, cumulative_p0, label=\"p1\")\n",
    "plt.plot(x, cumulative_p1, label=r\"$P_>^{(1)}(n)$\"+\"\\nm = 0.05\", color = \"crimson\", linewidth = 2.5)\n",
    "\n",
    "plt.yscale(\"log\")\n",
    "plt.xscale(\"log\")\n",
    "\n",
    "plt.xlabel(\"Abundance\", fontsize=14)\n",
    "plt.ylabel(\"Cumulative distribution\", fontsize=14)\n",
    "plt.legend(fontsize = 12)\n",
    "\n",
    "plt.show()\n",
    "plt.close()"
   ]
  },
  {
   "cell_type": "markdown",
   "metadata": {},
   "source": [
    "## 4. Species Area Relationship (SAR)"
   ]
  },
  {
   "cell_type": "markdown",
   "metadata": {},
   "source": [
    "We now calculate the mean number of species for increasing area. i.e.  $\\langle S(j \\frac{a}{A}) \\rangle$"
   ]
  },
  {
   "cell_type": "code",
   "execution_count": 12,
   "metadata": {},
   "outputs": [],
   "source": [
    "presences = cell_pop_M.reshape((800,-1))\n",
    "# h4k1ng\n",
    "presences = presences.astype(np.bool).astype(np.int)"
   ]
  },
  {
   "cell_type": "code",
   "execution_count": 50,
   "metadata": {},
   "outputs": [],
   "source": [
    "S_means = []\n",
    "\n",
    "# h4k1ng^2\n",
    "Presences = np.concatenate((presences, presences))\n",
    "for j in range(1, 801):\n",
    "    S = []\n",
    "    for i in range(800//j):\n",
    "        index = np.random.randint(800)\n",
    "        s = Presences[index:index+j].sum(axis=0).astype(np.bool).astype(np.int)\n",
    "        S.append(s.sum())\n",
    "    S_means.append(np.array(S).mean())"
   ]
  },
  {
   "cell_type": "code",
   "execution_count": 86,
   "metadata": {},
   "outputs": [
    {
     "name": "stdout",
     "output_type": "stream",
     "text": [
      "The fitted m parameter result is:  [9.76866684e-05]\n"
     ]
    },
    {
     "data": {
      "image/png": "[encoded data removed]",
      "text/plain": [
       "<Figure size 432x288 with 1 Axes>"
      ]
     },
     "metadata": {
      "needs_background": "light"
     },
     "output_type": "display_data"
    }
   ],
   "source": [
    "S_tot = 299\n",
    "N = 800\n",
    "\n",
    "def theoretical_curve(j, m, S=299, N=800):\n",
    "    return S*(1-(np.log(j*(1-m)/N+m))/np.log(m))\n",
    "\n",
    "from scipy.optimize import curve_fit\n",
    "x = np.arange(1,801)\n",
    "m, m_err = curve_fit(lambda j,m : theoretical_curve(j, m, S_tot, N), x, S_means, bounds=(1e-8, 1))\n",
    "\n",
    "plt.plot(x/N, S_means, label=\"observed SAR\")\n",
    "plt.plot(x/N, theoretical_curve(x, m), label=\"fitted SAR \\nm = %.4f\"%m , linewidth = 2)\n",
    "print(\"The fitted m parameter result is: \", m)\n",
    "\n",
    "plt.xlabel(\"Fraction of total plot\", fontsize=14)\n",
    "plt.ylabel(\"SAR\", fontsize=14)\n",
    "plt.legend(fontsize = 12)\n",
    "\n",
    "plt.show()\n",
    "plt.close()"
   ]
  },
  {
   "cell_type": "markdown",
   "metadata": {},
   "source": [
    "## 5. Logistic growth"
   ]
  },
  {
   "cell_type": "markdown",
   "metadata": {},
   "source": [
    "New rates for the logistic growth model:\n",
    "\n",
    "$b(n) = b n$\n",
    "\n",
    "$d(n) = b n \\frac{n}{K}$\n",
    "\n",
    "with $b(0) = \\nu$ and $d(0) = 0$.\n",
    "\n",
    "We get:\n",
    "\n",
    "$P(n) = \\frac{K^n}{n!}\\frac{mP_0}{b n}$\n",
    "\n",
    "Normalizing with the condition $\\sum_{n=1}^{\\infty}P(n) = 1$ we can obtain an expression for $P_0$:\n",
    "\n",
    "$$P_0 = \\frac{b}{m} \\left(\\sum_{n=1}^{\\infty} \\frac{K^n}{n~n!}\\right)^{-1}$$"
   ]
  },
  {
   "cell_type": "code",
   "execution_count": 88,
   "metadata": {},
   "outputs": [],
   "source": [
    "# Parameters of the model (arbitrary)\n",
    "b = 1 # intrinsic growth\n",
    "m = 0.1 # migration factor\n",
    "k = 10 # carrying capacity"
   ]
  },
  {
   "cell_type": "code",
   "execution_count": 89,
   "metadata": {},
   "outputs": [],
   "source": [
    "import mpmath as mp\n",
    "\n",
    "summ = mp.nsum(lambda n: k**n/(n*mp.fac(n)), [1, mp.inf])\n",
    "\n",
    "P0 = float(b/m*(summ)**-1)\n",
    "#P0 = float(b*(summ+b/m)**-1/m)\n",
    "\n",
    "def pn(n):\n",
    "    from scipy.special import factorial\n",
    "    c1 = m*P0*k**n\n",
    "    c2 = n*b*factorial(n)\n",
    "    return c1/c2"
   ]
  },
  {
   "cell_type": "code",
   "execution_count": 91,
   "metadata": {},
   "outputs": [
    {
     "data": {
      "image/png": "[encoded data removed]",
      "text/plain": [
       "<Figure size 432x288 with 1 Axes>"
      ]
     },
     "metadata": {
      "needs_background": "light"
     },
     "output_type": "display_data"
    }
   ],
   "source": [
    "xx = np.arange(1,25)\n",
    "\n",
    "ps = [p0(x-1, nu=0.1) for x in xx]\n",
    "ps = np.cumsum(ps)\n",
    "    \n",
    "plt.plot(xx, np.cumsum(pn(xx)), label = \"logistic growth\")\n",
    "plt.plot(xx, ps, label = \"voter model\")\n",
    "\n",
    "plt.xlabel(\"Number of individuals $n$\", fontsize=14)\n",
    "plt.ylabel(\"Cumulative PMF\", fontsize=14)\n",
    "\n",
    "plt.legend(fontsize = 12)\n",
    "plt.show()"
   ]
  },
  {
   "cell_type": "code",
   "execution_count": null,
   "metadata": {},
   "outputs": [],
   "source": [
    "\n"
   ]
  }
 ],
 "metadata": {
  "kernelspec": {
   "display_name": "Python 3",
   "language": "python",
   "name": "python3"
  },
  "language_info": {
   "codemirror_mode": {
    "name": "ipython",
    "version": 3
   },
   "file_extension": ".py",
   "mimetype": "text/x-python",
   "name": "python",
   "nbconvert_exporter": "python",
   "pygments_lexer": "ipython3",
   "version": "3.7.2"
  }
 },
 "nbformat": 4,
 "nbformat_minor": 2
}
